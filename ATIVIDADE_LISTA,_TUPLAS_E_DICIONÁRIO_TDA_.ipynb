{
  "nbformat": 4,
  "nbformat_minor": 0,
  "metadata": {
    "colab": {
      "provenance": [],
      "authorship_tag": "ABX9TyPuaDSq08/XBIaUucPkZcVG",
      "include_colab_link": true
    },
    "kernelspec": {
      "name": "python3",
      "display_name": "Python 3"
    },
    "language_info": {
      "name": "python"
    }
  },
  "cells": [
    {
      "cell_type": "markdown",
      "metadata": {
        "id": "view-in-github",
        "colab_type": "text"
      },
      "source": [
        "<a href=\"https://colab.research.google.com/github/DouglasPatriota/Listas-Tuplas-e-Dicion-rios_TDA/blob/main/ATIVIDADE_LISTA%2C_TUPLAS_E_DICION%C3%81RIO_TDA_.ipynb\" target=\"_parent\"><img src=\"https://colab.research.google.com/assets/colab-badge.svg\" alt=\"Open In Colab\"/></a>"
      ]
    },
    {
      "cell_type": "markdown",
      "source": [
        "📘 Técnicas de Desenvolvimento de Algoritmo\n",
        "<br>Curso: Ciência da Computação. LISTA DE ATIVIDADE DE LISTAS, TUPLAS E DICIONÁRIOS\n",
        "<BR>Douglas Patriota Lopes"
      ],
      "metadata": {
        "id": "JXXKjIdpvMPd"
      }
    },
    {
      "cell_type": "code",
      "execution_count": null,
      "metadata": {
        "id": "tzYW9dWnrpAV"
      },
      "outputs": [],
      "source": []
    },
    {
      "cell_type": "markdown",
      "source": [
        "Listas e Tuplas"
      ],
      "metadata": {
        "id": "Pl6r-kFguMd7"
      }
    },
    {
      "cell_type": "code",
      "source": [
        "#TAREFA 1 Escreva um programa que solicita que o usuário digite 5 números inteiros e os coloca em uma lista. Quando terminar, imprima a lista.\n",
        "numeros = []\n",
        "\n",
        "for i in range(5):\n",
        "    numero = int(input(f\"Digite o {i+1}º número inteiro: \"))\n",
        "    numeros.append(numero)\n",
        "\n",
        "print(\"A lista de números digitados é:\", numeros)\n"
      ],
      "metadata": {
        "id": "GaPKP3tisvLI"
      },
      "execution_count": null,
      "outputs": []
    },
    {
      "cell_type": "code",
      "source": [
        "#TAREFA 2\n",
        "#Escreva um programa que aplica a função\n",
        "#módulo a todos os elementos e uma lista.\n",
        "\n",
        "numeros = [-10, 5, -3, 8, -2]\n",
        "modulo_lista = []\n",
        "\n",
        "for numero in numeros:\n",
        "    modulo_lista.append(abs(numero))\n",
        "\n",
        "print(\"Lista original:\", numeros)\n",
        "print(\"Lista com módulo aplicado:\", modulo_lista)\n"
      ],
      "metadata": {
        "id": "BSw_uyHesV3T"
      },
      "execution_count": null,
      "outputs": []
    },
    {
      "cell_type": "code",
      "source": [
        "#TAREFA 3\n",
        "#Escreva um programa que apaga todos os\n",
        "#elementos negativos de uma lista\n",
        "\n",
        "numeros = [-5, 10, -3, 7, -1, 0, 8]\n",
        "positivos = []\n",
        "\n",
        "for numero in numeros:\n",
        "    if numero >= 0:\n",
        "        positivos.append(numero)\n",
        "\n",
        "print(\"Lista sem números negativos:\", positivos)\n"
      ],
      "metadata": {
        "id": "4U41uyKGszYf"
      },
      "execution_count": null,
      "outputs": []
    },
    {
      "cell_type": "code",
      "source": [
        "#TAREFA 4\n",
        "#Faça um programa que solicita uma quantidade indefinida de notas de uma prova (deve parar quando um númeronegativo for digitado).\n",
        "#Armazena em uma lista. Após isso, o programa deve mostrar a média das notas.\n",
        "notas = []\n",
        "soma = 0\n",
        "\n",
        "while True:\n",
        "    nota = float(input(\"Digite uma nota (número negativo para parar): \"))\n",
        "    if nota < 0:\n",
        "        break\n",
        "    notas.append(nota)\n",
        "    soma += nota\n",
        "\n",
        "if len(notas) > 0:\n",
        "    media = soma / len(notas)\n",
        "    print(\"Notas digitadas:\", notas)\n",
        "    print(\"Média das notas:\", format(media, \".1f\"))\n",
        "else:\n",
        "    print(\"Nenhuma nota válida foi digitada.\")\n"
      ],
      "metadata": {
        "id": "v1abi5zJtCeS"
      },
      "execution_count": null,
      "outputs": []
    },
    {
      "cell_type": "code",
      "source": [
        "#TAREFA 5\n",
        "#Faça um programa que solicita uma quantidade indefinida de números positivos (deve parar quando um número negativo for digitado). Armazene-os em duas listas:\n",
        "#uma para os números pares; outra para os números ímpares. A seguir, mostre a porcentagem de pares e ímpares digitados.\n",
        "\n",
        "pares = []\n",
        "impares = []\n",
        "\n",
        "while True:\n",
        "    numero = int(input(\"Digite um número positivo (negativo para parar): \"))\n",
        "    if numero < 0:\n",
        "        break\n",
        "    if numero % 2 == 0:\n",
        "        pares.append(numero)\n",
        "    else:\n",
        "        impares.append(numero)\n",
        "\n",
        "total = len(pares) + len(impares)\n",
        "\n",
        "if total > 0:\n",
        "    porcentagem_pares = (len(pares) / total) * 100\n",
        "    porcentagem_impares = (len(impares) / total) * 100\n",
        "\n",
        "    print(\"Números pares:\", pares)\n",
        "    print(\"Números ímpares:\", impares)\n",
        "    print(f\"Porcentagem de pares: {porcentagem_pares:.1f}%\")\n",
        "    print(f\"Porcentagem de ímpares: {porcentagem_impares:.1f}%\")\n",
        "else:\n",
        "    print(\"Nenhum número válido foi digitado.\")\n"
      ],
      "metadata": {
        "id": "ndfCEjeztQqL"
      },
      "execution_count": null,
      "outputs": []
    },
    {
      "cell_type": "code",
      "source": [
        "#TAREFA 7\n",
        "#Escreva um programa que solicita que o usuário digite a altura e o peso de 5 pessoas. Verifique se pelo menos duas das pessoas tem a mesma altura e mesmo peso.\n",
        "pessoas = []\n",
        "\n",
        "for i in range(5):\n",
        "    altura = float(input(f\"Digite a altura da pessoa {i+1} (em metros): \"))\n",
        "    peso = float(input(f\"Digite o peso da pessoa {i+1} (em kg): \"))\n",
        "    pessoas.append((altura, peso))\n",
        "\n",
        "repetido = False\n",
        "\n",
        "for i in range(len(pessoas)):\n",
        "    for j in range(i + 1, len(pessoas)):\n",
        "        if pessoas[i] == pessoas[j]:\n",
        "            repetido = True\n",
        "            break\n",
        "\n",
        "if repetido:\n",
        "    print(\"Pelo menos duas pessoas têm a mesma altura e o mesmo peso.\")\n",
        "else:\n",
        "    print(\"Nenhuma pessoa tem altura e peso iguais.\")\n"
      ],
      "metadata": {
        "id": "EafsAwRJthln"
      },
      "execution_count": null,
      "outputs": []
    },
    {
      "cell_type": "code",
      "source": [
        "#TAREFA 8\n",
        "#Faça um programa que solicita que o usuário digite o nome e a idade de diversas pessoas (o programa deve parar quando um nome vazio for informado).\n",
        "#Retorne o nome da pessoa mais velha.\n",
        "\n",
        "mais_velho_nome = \"\"\n",
        "mais_velho_idade = -1\n",
        "\n",
        "while True:\n",
        "    nome = input(\"Digite o nome da pessoa (ou pressione Enter para parar): \")\n",
        "    if nome == \"\":\n",
        "        break\n",
        "    idade = int(input(f\"Digite a idade de {nome}: \"))\n",
        "\n",
        "    if idade > mais_velho_idade:\n",
        "        mais_velho_idade = idade\n",
        "        mais_velho_nome = nome\n",
        "\n",
        "if mais_velho_nome:\n",
        "    print(\"A pessoa mais velha é:\", mais_velho_nome)\n",
        "else:\n",
        "    print(\"Nenhuma pessoa foi registrada.\")\n"
      ],
      "metadata": {
        "id": "PNAZGO61tsea"
      },
      "execution_count": null,
      "outputs": []
    },
    {
      "cell_type": "markdown",
      "source": [
        "DICIONÁRIOS"
      ],
      "metadata": {
        "id": "IgOE4bxyuKTW"
      }
    },
    {
      "cell_type": "code",
      "source": [
        "#TAREFA 1\n",
        "alunos = {\n",
        "    \"Alice\": 8.5,\n",
        "    \"Bruno\": 7.8,\n",
        "    \"Carla\": 9.2,\n",
        "    \"Diego\": 6.9,\n",
        "    \"Eva\": 8.0,\n",
        "    \"Fernando\": 7.5,\n",
        "    \"Gabriela\": 9.0,\n",
        "    \"Henrique\": 6.7,\n",
        "    \"Isabela\": 8.3,\n",
        "    \"João\": 7.2\n",
        "}\n",
        "\n",
        "quantidade = len(alunos)\n",
        "print(\"Quantidade de alunos:\", quantidade)\n",
        "\n",
        "tem_zero = 0 in alunos.values()\n",
        "print(\"Alguém tirou nota zero?\", \"Sim\" if tem_zero else \"Não\")\n",
        "\n",
        "menor_nota = min(alunos.values())\n",
        "print(\"Menor nota:\", menor_nota)\n",
        "\n",
        "maior_nota = max(alunos.values())\n",
        "print(\"Maior nota:\", maior_nota)\n"
      ],
      "metadata": {
        "id": "KMrrvjL3uXuF"
      },
      "execution_count": null,
      "outputs": []
    },
    {
      "cell_type": "code",
      "source": [
        "#TAREFA 2\n",
        "animes = {\n",
        "    \"Naruto\": 220,\n",
        "    \"Jujutsu Kaisen\": 47,\n",
        "    \"Dragon Ball Z\": 291,\n",
        "    \"Death Note\": 37,\n",
        "    \"Fullmetal Alchemist\": 64,\n",
        "    \"Evangelion\": 26,\n",
        "    \"Berserk\": 25,\n",
        "    \"Code Geass\": 50,\n",
        "    \"Akame ga Kill!\": 24,\n",
        "    \"Elfen Lied\": 13\n",
        "}\n",
        "\n",
        "ep_total = sum(animes.values())\n",
        "print(\"Total de episódios:\", ep_total)\n",
        "\n",
        "percentuais = {}\n",
        "for nome, ep in animes.items():\n",
        "    percentual = (ep / ep_total) * 100\n",
        "    percentuais[nome] = percentual\n",
        "\n",
        "print(\"\\nPercentual de episódios por anime (ordem decrescente):\")\n",
        "for nome, percentual in sorted(percentuais.items(), key=lambda x: x[1], reverse=True):\n",
        "    print(f\"{nome}: {percentual:.2f}%\")\n"
      ],
      "metadata": {
        "id": "60xcPXHjuZlS"
      },
      "execution_count": null,
      "outputs": []
    },
    {
      "cell_type": "code",
      "source": [
        "#TAREFA 3\n",
        "bandas = {\n",
        "    \"Gangrena Gasosa\": [\n",
        "        {\"álbum\": \"Gente Ruim Só Manda Lembrança Pra Quem Não Presta\", \"ano\": 2019},\n",
        "        {\"álbum\": \"Se Deus É 10, Satanás É 666\", \"ano\": 1999},\n",
        "        {\"álbum\": \"Welcome to the Macumba\", \"ano\": 1993}\n",
        "    ],\n",
        "    \"Rogério Skylab\": [\n",
        "        {\"álbum\": \"Nas Portas do Cu\", \"ano\": 2023},\n",
        "        {\"álbum\": \"Crítica da Faculdade do Cu\", \"ano\": 2021},\n",
        "        {\"álbum\": \"Cosmos\", \"ano\": 2019}\n",
        "    ],\n",
        "    \"Garotos Podres\": [\n",
        "        {\"álbum\": \"Canções para Ninar\", \"ano\": 2003},\n",
        "        {\"álbum\": \"Com a Corda Toda\", \"ano\": 1997},\n",
        "        {\"álbum\": \"Rock de Subúrbio\", \"ano\": 1995}\n",
        "    ],\n",
        "    \"Massacration\": [\n",
        "        {\"álbum\": \"Live Metal Espancation\", \"ano\": 2017},\n",
        "        {\"álbum\": \"Good Blood Headbanguers\", \"ano\": 2009},\n",
        "        {\"álbum\": \"Gates of Metal Fried Chicken of Death\", \"ano\": 2005}\n",
        "    ],\n",
        "    \"Raimundos\": [\n",
        "        {\"álbum\": \"Cantigas de Roda\", \"ano\": 2014},\n",
        "        {\"álbum\": \"Roda Viva\", \"ano\": 2006},\n",
        "        {\"álbum\": \"Éramos 4\", \"ano\": 2001}\n",
        "    ]\n",
        "}\n",
        "\n",
        "print(\"Bandas cadastradas:\")\n",
        "for banda in bandas:\n",
        "    print(\"-\", banda)\n",
        "\n",
        "print(\"\\nQuantidade de álbuns por banda:\")\n",
        "for banda, albuns in bandas.items():\n",
        "    print(f\"{banda}: {len(albuns)} álbuns\")\n",
        "\n",
        "print(\"\\nÁlbum mais recente de cada banda:\")\n",
        "for banda, albuns in bandas.items():\n",
        "    mais_recente = max(albuns, key=lambda x: x[\"ano\"])\n",
        "    print(f\"{banda}: '{mais_recente['álbum']}' ({mais_recente['ano']})\")\n",
        "\n",
        "print(\"\\nÁlbuns lançados antes do ano 2000:\")\n",
        "for banda, albuns in bandas.items():\n",
        "    for album in albuns:\n",
        "        if album[\"ano\"] < 2000:\n",
        "            print(f\"{banda}: '{album['álbum']}' ({album['ano']})\")\n"
      ],
      "metadata": {
        "id": "MBNltvpZua9F"
      },
      "execution_count": null,
      "outputs": []
    }
  ]
}