{
  "nbformat": 4,
  "nbformat_minor": 0,
  "metadata": {
    "colab": {
      "provenance": [],
      "authorship_tag": "ABX9TyNzbHsYs+pWyu5+ckDQI+aw",
      "include_colab_link": true
    },
    "kernelspec": {
      "name": "python3",
      "display_name": "Python 3"
    },
    "language_info": {
      "name": "python"
    }
  },
  "cells": [
    {
      "cell_type": "markdown",
      "metadata": {
        "id": "view-in-github",
        "colab_type": "text"
      },
      "source": [
        "<a href=\"https://colab.research.google.com/github/DouglasPatriota/Listas-Tuplas-e-Dicion-rios_TDA/blob/main/TDA_AULA_17_10_ipynb.ipynb\" target=\"_parent\"><img src=\"https://colab.research.google.com/assets/colab-badge.svg\" alt=\"Open In Colab\"/></a>"
      ]
    },
    {
      "cell_type": "markdown",
      "source": [
        "<h1>📘 Técnicas de Desenvolvimento de Algoritmo <h1>\n",
        "Curso: Ciência da Computação Aula: 17/10 – POO com Python Tema: Listas em Python\n",
        "<br>Douglas Patriota Lopes"
      ],
      "metadata": {
        "id": "BUz1Hu6Vmy1-"
      }
    },
    {
      "cell_type": "code",
      "source": [
        "'🔹 Introdução às Listas'\n",
        "\n",
        "lista1 = [10, 20, 30, 40]\n",
        "lista2 = [\"programação\", \"UDF\", \"python\"]\n",
        "lista3 = [\"oi\", 2.0, 5, [10, 20]]\n",
        "\n",
        "print(lista1)\n",
        "print(lista2)\n",
        "print(lista3)\n"
      ],
      "metadata": {
        "colab": {
          "base_uri": "https://localhost:8080/"
        },
        "id": "51WAELDbmgHa",
        "outputId": "e85f6be8-0104-4125-97c6-136f6f3eb1ea"
      },
      "execution_count": 1,
      "outputs": [
        {
          "output_type": "stream",
          "name": "stdout",
          "text": [
            "[10, 20, 30, 40]\n",
            "['programação', 'UDF', 'python']\n",
            "['oi', 2.0, 5, [10, 20]]\n"
          ]
        }
      ]
    },
    {
      "cell_type": "code",
      "source": [
        "'🔹 Acessando elementos da lista'\n",
        "notas = [8.0, 5.5, 9.3, 7.6, 3.1]\n",
        "\n",
        "print(notas[0])\n",
        "print(notas[1])\n",
        "print(notas[2])\n",
        "print(notas[3])\n",
        "print(notas[4])\n"
      ],
      "metadata": {
        "colab": {
          "base_uri": "https://localhost:8080/"
        },
        "id": "lPxhlv0AmtcP",
        "outputId": "d7347262-73c3-40ac-a7f6-adc2d6140675"
      },
      "execution_count": 6,
      "outputs": [
        {
          "output_type": "stream",
          "name": "stdout",
          "text": [
            "8.0\n",
            "5.5\n",
            "9.3\n",
            "7.6\n",
            "3.1\n"
          ]
        }
      ]
    },
    {
      "cell_type": "code",
      "source": [
        "'🔹 Modificando elementos e verificando tamanho'\n",
        "print(notas[0] + 2)\n",
        "notas[3] = 0.5\n",
        "print(notas)\n",
        "print(len(notas))\n"
      ],
      "metadata": {
        "id": "UL5J-NqLngoZ"
      },
      "execution_count": null,
      "outputs": []
    },
    {
      "cell_type": "code",
      "source": [
        "'🔹 Preenchendo listas com laços'\n",
        "lista = [0] * 10\n",
        "for i in range(10):\n",
        "    lista[i] = 5 * i\n",
        "print(lista)\n",
        "print(len(lista))\n"
      ],
      "metadata": {
        "colab": {
          "base_uri": "https://localhost:8080/"
        },
        "id": "_Rlvis38nmEj",
        "outputId": "f97f18bc-daf2-487e-8af6-7c677e03964a"
      },
      "execution_count": 5,
      "outputs": [
        {
          "output_type": "stream",
          "name": "stdout",
          "text": [
            "[0, 5, 10, 15, 20, 25, 30, 35, 40, 45]\n",
            "10\n"
          ]
        }
      ]
    },
    {
      "cell_type": "code",
      "source": [
        "'🔹 Índices negativos'\n",
        "notas = [8.0, 5.5, 9.3, 0.5, 3.1]\n",
        "\n",
        "print(notas[-1])\n",
        "print(notas[-2])\n",
        "print(notas[-3])\n",
        "print(notas[-4])\n",
        "print(notas[-5])\n"
      ],
      "metadata": {
        "colab": {
          "base_uri": "https://localhost:8080/"
        },
        "id": "K7a1x0lUnt12",
        "outputId": "f88d9219-f748-46e2-bffb-97abc6d77f6c"
      },
      "execution_count": 4,
      "outputs": [
        {
          "output_type": "stream",
          "name": "stdout",
          "text": [
            "3.1\n",
            "0.5\n",
            "9.3\n",
            "5.5\n",
            "8.0\n"
          ]
        }
      ]
    },
    {
      "cell_type": "code",
      "source": [
        "'🔹 Slicing'\n",
        "notas = [8.0, 5.5, 9.3, 0.5, 3.1]\n",
        "print(notas[2:3])\n",
        "print(notas)\n",
        "\n",
        "nome = [\"D\", \"o\", \"u\", \"g\", \"l\", \"a\", \"s\"]\n",
        "print(nome[0])"
      ],
      "metadata": {
        "colab": {
          "base_uri": "https://localhost:8080/"
        },
        "id": "q453fysLnzYA",
        "outputId": "3de68ac1-4159-4b1b-9c5a-0d9dca0951ba"
      },
      "execution_count": 7,
      "outputs": [
        {
          "output_type": "stream",
          "name": "stdout",
          "text": [
            "[9.3]\n",
            "[8.0, 5.5, 9.3, 0.5, 3.1]\n",
            "D\n"
          ]
        }
      ]
    },
    {
      "cell_type": "code",
      "source": [
        "'🔹 Laço for com listas'\n",
        "for i in range(len(notas)):\n",
        "    print(notas[i])\n",
        "\n",
        "# Alternativa\n",
        "for nota in notas:\n",
        "    print(nota)\n"
      ],
      "metadata": {
        "id": "NQHy_o2aoFsK"
      },
      "execution_count": null,
      "outputs": []
    },
    {
      "cell_type": "code",
      "source": [
        "'🔹 Método append'\n",
        "notas.append(10.0)\n",
        "notas.append(12.0)\n",
        "print(notas)\n",
        "print(len(notas))\n"
      ],
      "metadata": {
        "id": "YSpAGHhioK8X"
      },
      "execution_count": null,
      "outputs": []
    },
    {
      "cell_type": "code",
      "source": [
        "'🔹 Preenchendo lista com input'\n",
        "notas = []\n",
        "n = int(input(\"Entre com o número de notas: \"))\n",
        "for i in range(n):\n",
        "    dado = float(input(\"Entre com a nota \" + str(i) + \": \"))\n",
        "    notas.append(dado)\n",
        "print(notas)\n"
      ],
      "metadata": {
        "id": "N91A9j3YoRVf"
      },
      "execution_count": null,
      "outputs": []
    },
    {
      "cell_type": "code",
      "source": [
        "'🔹 Operadores + e *''\n",
        "lista1 = [1, 2, 3]\n",
        "lista2 = [4, 5, 6]\n",
        "x = lista1 + lista2\n",
        "print(x)\n",
        "\n",
        "y = 4 * lista1\n",
        "print(y)\n"
      ],
      "metadata": {
        "id": "ZyzZUk-GoTMn"
      },
      "execution_count": null,
      "outputs": []
    },
    {
      "cell_type": "code",
      "source": [
        "'🔹 Método insert'\n",
        "x = [40, 30, 10, 20]\n",
        "x.insert(0, 99)\n",
        "print(x)\n"
      ],
      "metadata": {
        "id": "Mm9KhFnAoX7n"
      },
      "execution_count": null,
      "outputs": []
    },
    {
      "cell_type": "code",
      "source": [
        "'🔹 Remoção com del e remove'\n",
        "x = [40, 99, 30, 10, 20]\n",
        "del x[4]\n",
        "print(x)\n",
        "\n",
        "x.remove(30)\n",
        "print(x)\n"
      ],
      "metadata": {
        "id": "pET7B3UWoahC"
      },
      "execution_count": null,
      "outputs": []
    },
    {
      "cell_type": "code",
      "source": [
        "'🔹 Método count'\n",
        "x = [40, 99, 10, 20, 13, 20, 14]\n",
        "N = x.count(20)\n",
        "print(N)\n"
      ],
      "metadata": {
        "id": "PStM3477oc1X"
      },
      "execution_count": null,
      "outputs": []
    },
    {
      "cell_type": "code",
      "source": [
        "'🔹 Inicialização com compreensão de listas'\n",
        "x = [0 for i in range(5)]\n",
        "print(x)\n",
        "\n",
        "x = [2 * i for i in range(5)]\n",
        "print(x)\n"
      ],
      "metadata": {
        "id": "BUG2lHZEoh10"
      },
      "execution_count": null,
      "outputs": []
    },
    {
      "cell_type": "code",
      "source": [
        "'🧠 Exercício: Triângulo de números'\n",
        "n = int(input(\"Digite um número: \"))\n",
        "for i in range(1, n + 1):\n",
        "    for j in range(1, i + 1):\n",
        "        print(j, end=\" \")\n",
        "    print(\" \")\n"
      ],
      "metadata": {
        "id": "Cb8ynqqqoknx"
      },
      "execution_count": null,
      "outputs": []
    },
    {
      "cell_type": "code",
      "source": [
        "'🧠 Exercício: Média de notas'\n",
        "notas = []\n",
        "soma = 0\n",
        "n = int(input(\"Entre com o número de notas: \"))\n",
        "for i in range(n):\n",
        "    dado = float(input(\"Entre com a nota \" + str(i + 1) + \": \"))\n",
        "    notas.append(dado)\n",
        "    soma += dado\n",
        "\n",
        "print(notas)\n",
        "media = soma / n\n",
        "print(format(media, \".1f\"))\n"
      ],
      "metadata": {
        "id": "PB8xi424onWi"
      },
      "execution_count": null,
      "outputs": []
    },
    {
      "cell_type": "code",
      "source": [
        "'🧠 Exercício: Elementos comuns entre listas'\n",
        "x = []\n",
        "y = []\n",
        "\n",
        "for i in range(5):\n",
        "    x.append(int(input(\"Digite elemento da lista x: \")))\n",
        "\n",
        "for i in range(5):\n",
        "    y.append(int(input(\"Digite elemento da lista y: \")))\n",
        "\n",
        "um_elemento_comum = False\n",
        "\n",
        "for a in x:\n",
        "    for b in y:\n",
        "        if a == b:\n",
        "            um_elemento_comum = True\n",
        "            print(str(a))\n",
        "\n",
        "if not um_elemento_comum:\n",
        "    print(\"Não tem elemento comum.\")\n"
      ],
      "metadata": {
        "id": "StRjW2V5oq-c"
      },
      "execution_count": null,
      "outputs": []
    }
  ]
}